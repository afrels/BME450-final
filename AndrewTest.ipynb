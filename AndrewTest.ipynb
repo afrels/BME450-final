{
  "nbformat": 4,
  "nbformat_minor": 0,
  "metadata": {
    "colab": {
      "provenance": [],
      "mount_file_id": "12DPPWDXk4dna36VwikzEtoqx7gosOT1R",
      "authorship_tag": "ABX9TyOGFZdhyMeBWCoWnFSUF5VF",
      "include_colab_link": true
    },
    "kernelspec": {
      "name": "python3",
      "display_name": "Python 3"
    },
    "language_info": {
      "name": "python"
    }
  },
  "cells": [
    {
      "cell_type": "markdown",
      "metadata": {
        "id": "view-in-github",
        "colab_type": "text"
      },
      "source": [
        "<a href=\"https://colab.research.google.com/github/afrels/BME450-project/blob/main/AndrewTest.ipynb\" target=\"_parent\"><img src=\"https://colab.research.google.com/assets/colab-badge.svg\" alt=\"Open In Colab\"/></a>"
      ]
    },
    {
      "cell_type": "markdown",
      "source": [
        "# Setup"
      ],
      "metadata": {
        "id": "fOP5iCNLs7Io"
      }
    },
    {
      "cell_type": "code",
      "execution_count": 16,
      "metadata": {
        "id": "xflNvO6DrxzK"
      },
      "outputs": [],
      "source": [
        "#Here we do all of our importing. I am not entirely sure if the 4th and 5th lines are required\n",
        "\n",
        "import pandas as pd\n",
        "import numpy as np\n",
        "import tensorflow as tf\n",
        "from tensorflow.keras.preprocessing.text import Tokenizer\n",
        "from tensorflow.keras.preprocessing.sequence import pad_sequences\n",
        "from sklearn.model_selection import train_test_split\n",
        "from matplotlib import pyplot as plt\n"
      ]
    },
    {
      "cell_type": "code",
      "source": [
        "#allows access to Google Drive files\n",
        "\n",
        "from google.colab import drive\n",
        "drive.mount('/content/drive')"
      ],
      "metadata": {
        "id": "_DyrN6a-1ytB",
        "colab": {
          "base_uri": "https://localhost:8080/"
        },
        "outputId": "3863035b-359f-494f-8d62-18639b4f343a"
      },
      "execution_count": 4,
      "outputs": [
        {
          "output_type": "stream",
          "name": "stdout",
          "text": [
            "Drive already mounted at /content/drive; to attempt to forcibly remount, call drive.mount(\"/content/drive\", force_remount=True).\n"
          ]
        }
      ]
    },
    {
      "cell_type": "markdown",
      "source": [
        "# Loader\n",
        "Here the data is loaded in. It is uploaded to Andrew's Drive. To run without modifying the code, place the file in the main directory of your Google Drive and run this script using Jupyter on Google Colab. You may have to mount your drive. Use the second box in the setup section.\n"
      ],
      "metadata": {
        "id": "4714tAR-tA3b"
      }
    },
    {
      "cell_type": "markdown",
      "source": [],
      "metadata": {
        "id": "Rj2Od85bQ9Q6"
      }
    },
    {
      "cell_type": "code",
      "source": [
        "#Load the data file\n",
        "df = pd.read_csv('/content/drive/MyDrive/IMDB-Dataset.csv')\n",
        "\n",
        "#Turn positive and negative into binary\n",
        "sentiment_map = {'positive': 1, 'negative': 0}\n",
        "df['sentiment_binary'] = df['sentiment'].map(sentiment_map)\n",
        "\n",
        "#Sets the review and sentiment columns\n",
        "reviews = df.iloc[:, 0].values\n",
        "sentiments = df.iloc[:, 2].values\n",
        "\n",
        "#Splits the data into the training set (70%) and the testing set (30%). I picked\n",
        "# the random state (the shuffle random seed) because it's my lucky number\n",
        "X_train, X_t, Y_train, Y_t = train_test_split(reviews, sentiments, test_size=0.2, random_state=26)\n",
        "\n",
        "#Further splits the testing set by half into a validation set used during training and a final test set \n",
        "X_test, X_val, Y_test, Y_val = train_test_split(X_t, Y_t, test_size=0.5, random_state=16)"
      ],
      "metadata": {
        "id": "BXPMbYzor5tB",
        "colab": {
          "base_uri": "https://localhost:8080/"
        },
        "outputId": "971db9f2-8a0f-4e8f-ab26-c3e891d7edfe"
      },
      "execution_count": 44,
      "outputs": [
        {
          "output_type": "stream",
          "name": "stdout",
          "text": [
            "50000\n",
            "['I don\\'t understand why everyone hates this movie, aside from the fact that they\\'re just jealous their music careers never took off like mega Popstar Aaron Carter. Like it or not Aaron has seen more success in his young life than most people could ever dream of having, so it only seemed natural for him to do a movie. Lou Pearlman and company have been known for over-exploiting their pop protégées, you remember Justin Timberlake\\'s foray into TV movie Model Behavior? Granted this movie isn\\'t big scale and impressive, but it\\'s not supposed to be. It\\'s not trying to impress people or be an Emmy award winner, it was released straight to DVD. It\\'s just a cute little movie about an awkward teen who gets her dream of being with her favorite Popstar; I know a lot of you out there have had that dream at some point or another about you favorite singer, don\\'t deny it. It\\'s sweet and gentle and I applaud it for not stepping into the realm of sex, violence, and vulgar language that seem to be creeping into more and more of our movies today. Where\\'s the decency? Where\\'s the line? Teen dramas come in dozens these days because teens are a big market for companies, at least this one is more tolerable to me than Bratz (aka Slutz) with all the fake little girls running around going \"Oh Mah Gawd!\" in tank tops and mini skirts and is fathoms better than those gore fest movies like Saw. I feel for the main character girl because I was nerdy outcast girl in High School who loved Aaron Carter and NSYNC and the Backstreet Boys and other pop music and still do; and like Aaron\\'s character would get crushing \"testophobia\", especially in Math. If you judge this movie solely based on the fact that you don\\'t like or are jealous of Aaron Carter and his fame, then of course you\\'re going to hate it and trash talk it in reviews. The only reason Britney Spears\\' dribble Crossroads got a higher score is because she has boobs. Accept this movie for what it is, not what you want it to be. I think this happy formulaic teen movie ends on a high note and makes you want to sing.'\n",
            " \"T. Rama Rao made some extremely beautiful films in the 1980s, but he seems to be a filmmaker who cannot mature with the changing times, styles and fashions. He's like stuck with the same old-fashioned film-making style.<br /><br />Actors are not bad, not good either. Anil Kapoor generally acts convincingly his two roles of a father and his son, but the flawed script often makes him look funny and pathetic. Rekha is good, but then - she's always good, and here she's nothing more than such. She makes the best of what she is given, but she always does that. In conclusion, nothing great at all. Raveena is OK, which means ordinary, not bad, not good, nothing.<br /><br />This film is melodramatic, occasionally stupid. Maybe it's a delayed film? Well, even then it still would be below standard. The script is terrible, the film is overdone, and the story goes nowhere. It feels like a film made in the early 1990s, but the script makes it look even older, the style is like from the 1950s.<br /><br />Don't recommend, unless you're a big fan one of the starring actors.\"\n",
            " \"I'm all for the idea of a grand epic of the American Revolutionary War. This ain't it. (And for that matter, neither was the Emmerich/Devlin/Gibson THE PATRIOT. But I digress.)<br /><br />I saw this film at a publicity screening at the old MGM Studios (now Sony) just before it came out. The audience had high expectations for this expensive period piece, written by veteran Robert Dillon, directed by the esteemed Hugh Hudson (of CHARIOTS OF FIRE fame), and starring Al Pacino.<br /><br />But it didn't take long for people to start squirming in their seats, whispering derisive comments about Pacino's horribly misconceived accent -- he was supposed to be an American frontiersman of Scottish ancestry(!) -- and that of Nastassja Kinski, who was supposed to be recently emigrated from England(!!). Then the story started and it all went downhill fast.<br /><br />Motivations were muddled, dialogue was atrocious, events had no historical or political context. What there was of a plot lurched forward on absurd coincidence; by the second or third time that alleged lovers Pacino and Kinski stumbled into each other it had become a bad joke. Donald Sutherland gave an unhinged performance as a British officer/pederast. His accent was all over the map too. I guess there weren't any English actors available.<br /><br />Lots of people left. Those who stayed tried to stifle giggles, then openly guffawed. I stuck it out -- I figured that at least the battle scenes might be good. I was wrong. Inexplicably, Hudson chose to film them with hand-held cameras, not even Steadicam, the jerkiness giving a misplaced newsreel 'authenticity' which ruined the sense of scale.<br /><br />There was a semi-famous TV reviewer in the audience a few rows ahead of me: (the late) Gary Franklin of Channel 7 Eyewitness News. I could tell he was peeved by the behavior of the rest of us. And sure enough, on his TV segment the next day he gave the film a '10' on his notorious 'Franklin Scale of 1 to 10', while remarking churlishly about the louts who'd disrupted the screening the night before, who clearly didn't know art when they saw it. What a buffoon.<br /><br />After this disaster, Pacino didn't star in another film for almost 4 years. Hugh Hudson's career never recovered. You can't say I didn't warn you.\"\n",
            " ...\n",
            " 'This movie is brilliant in every way. It touches on the complexities of loving relationships in a meaningful way, but never lectures. The script never condescends toward any character, not even the hapless Johnny. It also and benefits from spot-on direction, production design, casting, and performances. The fact that Cher is so perfect in the film and is more unlike \"Cher\" than she has ever been is a wonder to me. I watch Moonstruck at least once a year and I just viewed it again this Christmas eve with my 16 year old twin daughters and they loved it as well. It has something for everyone with a heart and leaves you filled with joy in the end.'\n",
            " 'This movie is... horrible and wonderful at the same time. I first saw it when I was about 13 or 14 years old, so it has a great deal of nostalgic value for me. In this movie, Cesar Romero actually plays the character of Octavio, the man who \"discovered\" Santana. There are also two other actors, Monte Markham (plays Sam, who is trying to save his daughter) and Peter Mark Richman (plays the priest), who have large filmographies, and these are the only performances that are okay. The rest of the acting and the movie itself have all of the B-film qualities that some of us cherish.<br /><br />I recently spent 2 years trying to acquire a copy of this movie, and it is almost nonexistent. I am assuming that it was discontinued very shortly after its release. But I did eventually find a copy and paid a pretty penny to acquire it. If you happen to come upon Judgement Day in a video store (unmistakeable with a cheesy green \"satan\" on the cover), count yourself among the blessed who live near one of the few video stores that still has a working copy. A must see for those of you who like to laugh at cheesy attempts at a scary movie.'\n",
            " 'I heard and read many praising things about \"Midnight Meat Train\", which is based on a short story written by no less than Clive Barker and supposedly the best adaptation of his work since the original \"Hellraiser\" that he directed himself, but so far I can only express very mixed sentiments about my viewing experience. The most appropriate term to summarize the whole film in just word is: nauseating! The violence is sadistic and extreme, which undoubtedly attracts fanatic young horror enthusiasts, but it\\'s also indescribably gratuitous and exploitative. Normally speaking, I\\'m very pro-violence but it has to at least serve some kind of purpose. The butchering \\x96 literally \\x96 depicted in \"Midnight Meat Train\" is exclusively meant to shock and to repulse the viewers with weak nerve systems and easily upset stomachs, and even that isn\\'t fully effective due to the use of digital computer effects. There are more shortcomings, some even bigger than the pointless gore, but perhaps I should focus on the good elements first. The basic concept is definitely promising and multiple sequences (like the chase in the freezer room, for example) are literally oozing with nail-biting suspense and macabre atmosphere. Unfortunately the pacing is very uneven and the elaboration of the potentially fantastic plot is made unnecessarily convoluted. Presumably the processing of a short story into a long feature film scenario is responsible for the pacing irregularities, but I honestly feel they could have done more with the denouement as well as with the character played by Vinnie Jones. The plot introduces Leon, an aspiring photographer in New York whose agent advises to search for the truly menacing face of the city through sinister pictures. Leon then becomes obsessed with stalking an introvert and suspiciously behaving butcher who always awaits the midnight train. Leon\\'s right, as the butcher turns out to be a relentless serial killer who literally crushes his victims with a big hammer, but the killer\\'s motivations and behavior suggest there\\'s something far more substantial going on the rails at night. \"Midnight Meat Train\" takes place in naturally unsettling locations like subway stations at night and animal abattoirs, plus the film also benefices of good acting performances and a truckload of downright disturbing images (like cadavers on meat hooks and train carriages smeared in blood), but director Ryûhei Kitamura (\"Versus\", \"Godzilla Final Wars\") doesn\\'t take full advantage of it all. The ending leaves a whole lot questions unanswered and, even if Clive Barker meant to have like this, I still think we deserved a slightly more clarifying finale. \"Midnight Meat Train\" is a somewhat intriguing and definitely haunting film, but not without defaults. It\\'s not intended for easily offended viewers, but maybe people looking for plot coherence and clarity should leave it alone as well.']\n",
            "[1 0 0 ... 1 0 0]\n"
          ]
        }
      ]
    },
    {
      "cell_type": "markdown",
      "source": [
        "# Tokenization\n",
        "This step is important for text based networks as it transforms the data from what we can understand, words, to what the computer can better deal with, integers. There is also the issue of inputs to the network being uniform so all data is padded or trimmed to be the same length."
      ],
      "metadata": {
        "id": "lX4BTviUtDe9"
      }
    },
    {
      "cell_type": "code",
      "source": [
        "#Use built in Keras tokenizer. oov token deals with unknown characters. Number of words could be increased if there is bad loss\n",
        "tokenizer = Tokenizer(num_words=20000, oov_token='OOV')\n",
        "\n",
        "#establishes the library of words to use as all the words in our data\n",
        "tokenizer.fit_on_texts(X_train)\n",
        "\n",
        "#Turn our train and test data into numerical data and pad all entries to the same length for input consistency\n",
        "#The post modifier makes all cuts or additions at the end. The padding character is, by default, 0\n",
        "X_train = tokenizer.texts_to_sequences(X_train)\n",
        "X_train = pad_sequences(X_train, maxlen=500, padding='post', truncating='post')\n",
        "\n",
        "X_test = tokenizer.texts_to_sequences(X_test)\n",
        "X_test = pad_sequences(X_test, maxlen=500, padding='post', truncating='post')\n",
        "\n",
        "X_val = tokenizer.texts_to_sequences(X_val)\n",
        "X_val = pad_sequences(X_val, maxlen=500, padding='post', truncating='post')\n"
      ],
      "metadata": {
        "id": "at71U3Opsn-M"
      },
      "execution_count": 45,
      "outputs": []
    },
    {
      "cell_type": "markdown",
      "source": [
        "# Neural Network"
      ],
      "metadata": {
        "id": "zzVhxOKstSmx"
      }
    },
    {
      "cell_type": "code",
      "source": [
        "#Normal Sequential Network -> had very high loss\n",
        "#model = tf.keras.Sequential() \n",
        "#model.add(tf.keras.layers.Embedding(input_dim=20000, output_dim=16, input_length=500))    \n",
        "#model.add(tf.keras.layers.GlobalAveragePooling1D())\n",
        "#model.add(tf.keras.layers.Dense(16, activation='relu'))\n",
        "#model.add(tf.keras.layers.Dense(1, activation='sigmoid'))"
      ],
      "metadata": {
        "id": "Jb9n9340s5YZ"
      },
      "execution_count": 27,
      "outputs": []
    },
    {
      "cell_type": "code",
      "source": [
        "#Dropout Network to reduce overfitting -> Still high loss, made smaller\n",
        "#model = tf.keras.Sequential()\n",
        "#model.add(tf.keras.layers.Embedding(input_dim=20000, output_dim=16, input_length=500))\n",
        "#model.add(tf.keras.layers.GlobalAveragePooling1D())\n",
        "#model.add(tf.keras.layers.Dense(8, activation='relu'))\n",
        "#model.add(tf.keras.layers.Dropout(0.5))\n",
        "#model.add(tf.keras.layers.Dense(1, activation='sigmoid'))"
      ],
      "metadata": {
        "id": "2gbBxTrs6zxV"
      },
      "execution_count": null,
      "outputs": []
    },
    {
      "cell_type": "code",
      "source": [
        "#Smaller Dropout Network to reduce overfitting\n",
        "model = tf.keras.Sequential()\n",
        "\n",
        "model.add(tf.keras.layers.Embedding(input_dim=20000, output_dim=16, input_length=500))\n",
        "\n",
        "model.add(tf.keras.layers.GlobalAveragePooling1D())\n",
        "\n",
        "model.add(tf.keras.layers.Dense(8, activation='relu'))\n",
        "\n",
        "model.add(tf.keras.layers.Dropout(0.5))\n",
        "\n",
        "model.add(tf.keras.layers.Dense(1, activation='sigmoid'))"
      ],
      "metadata": {
        "id": "wG4tRAZosChe"
      },
      "execution_count": 65,
      "outputs": []
    },
    {
      "cell_type": "markdown",
      "source": [
        "# Initialization"
      ],
      "metadata": {
        "id": "adyBol51tYcU"
      }
    },
    {
      "cell_type": "code",
      "source": [
        "  #Loss Function Choice - This parameter allows us to pick the way loss will be \n",
        "#calculated using a number of built in algorithms. Since we talked about it in \n",
        "#class, we chose to use Mean Squared Error since it is the easiest to understand\n",
        "# and apparently pretty good.\n",
        "  #Optimizer Choice - This allows us to pick an optimization algorithm. We don't\n",
        "#fully understand it, but it essentially the algorythm by which the model rewires itself. Adam, via research\n",
        "#appears to be a common choice for its speed and good results\n",
        "  #Metric Choice - The chosen metric was accuracy, simple correctness, as it was very simple to understand\n",
        "\n",
        "model.compile(loss='binary_crossentropy', optimizer='rmsprop', metrics=['accuracy'])\n",
        "\n",
        "history = model.fit(X_train, Y_train, epochs=15, validation_data=(X_val, Y_val), shuffle=True)"
      ],
      "metadata": {
        "id": "X7hNo_RQtYzA",
        "colab": {
          "base_uri": "https://localhost:8080/"
        },
        "outputId": "a61be5f5-6285-4c08-ca72-f0509bbf2151"
      },
      "execution_count": 66,
      "outputs": [
        {
          "output_type": "stream",
          "name": "stdout",
          "text": [
            "Epoch 1/15\n",
            "1250/1250 [==============================] - 8s 6ms/step - loss: 0.6863 - accuracy: 0.5634 - val_loss: 0.6610 - val_accuracy: 0.7144\n",
            "Epoch 2/15\n",
            "1250/1250 [==============================] - 8s 6ms/step - loss: 0.6017 - accuracy: 0.7050 - val_loss: 0.4920 - val_accuracy: 0.8192\n",
            "Epoch 3/15\n",
            "1250/1250 [==============================] - 7s 6ms/step - loss: 0.4739 - accuracy: 0.7865 - val_loss: 0.3756 - val_accuracy: 0.8526\n",
            "Epoch 4/15\n",
            "1250/1250 [==============================] - 7s 6ms/step - loss: 0.4115 - accuracy: 0.8195 - val_loss: 0.3286 - val_accuracy: 0.8728\n",
            "Epoch 5/15\n",
            "1250/1250 [==============================] - 8s 6ms/step - loss: 0.3773 - accuracy: 0.8340 - val_loss: 0.3003 - val_accuracy: 0.8796\n",
            "Epoch 6/15\n",
            "1250/1250 [==============================] - 7s 6ms/step - loss: 0.3543 - accuracy: 0.8476 - val_loss: 0.2854 - val_accuracy: 0.8846\n",
            "Epoch 7/15\n",
            "1250/1250 [==============================] - 8s 7ms/step - loss: 0.3379 - accuracy: 0.8551 - val_loss: 0.2765 - val_accuracy: 0.8846\n",
            "Epoch 8/15\n",
            "1250/1250 [==============================] - 7s 6ms/step - loss: 0.3266 - accuracy: 0.8596 - val_loss: 0.2727 - val_accuracy: 0.8876\n",
            "Epoch 9/15\n",
            "1250/1250 [==============================] - 8s 7ms/step - loss: 0.3155 - accuracy: 0.8659 - val_loss: 0.2847 - val_accuracy: 0.8758\n",
            "Epoch 10/15\n",
            "1250/1250 [==============================] - 7s 5ms/step - loss: 0.3077 - accuracy: 0.8668 - val_loss: 0.2737 - val_accuracy: 0.8874\n",
            "Epoch 11/15\n",
            "1250/1250 [==============================] - 8s 7ms/step - loss: 0.3017 - accuracy: 0.8723 - val_loss: 0.2677 - val_accuracy: 0.8892\n",
            "Epoch 12/15\n",
            "1250/1250 [==============================] - 7s 5ms/step - loss: 0.3006 - accuracy: 0.8747 - val_loss: 0.2857 - val_accuracy: 0.8822\n",
            "Epoch 13/15\n",
            "1250/1250 [==============================] - 8s 6ms/step - loss: 0.2923 - accuracy: 0.8762 - val_loss: 0.2654 - val_accuracy: 0.8944\n",
            "Epoch 14/15\n",
            "1250/1250 [==============================] - 7s 5ms/step - loss: 0.2900 - accuracy: 0.8777 - val_loss: 0.2665 - val_accuracy: 0.8914\n",
            "Epoch 15/15\n",
            "1250/1250 [==============================] - 8s 7ms/step - loss: 0.2875 - accuracy: 0.8786 - val_loss: 0.2780 - val_accuracy: 0.8864\n"
          ]
        }
      ]
    },
    {
      "cell_type": "markdown",
      "source": [
        "# Final Test Set"
      ],
      "metadata": {
        "id": "nRqJI96tt8_E"
      }
    },
    {
      "cell_type": "code",
      "source": [
        "model.evaluate(X_test, Y_test)"
      ],
      "metadata": {
        "id": "I-PKvD6Gt9Lz",
        "colab": {
          "base_uri": "https://localhost:8080/"
        },
        "outputId": "efc84e78-8c2b-46aa-9d43-eca331129c5e"
      },
      "execution_count": 67,
      "outputs": [
        {
          "output_type": "stream",
          "name": "stdout",
          "text": [
            "157/157 [==============================] - 0s 2ms/step - loss: 0.2698 - accuracy: 0.8904\n"
          ]
        },
        {
          "output_type": "execute_result",
          "data": {
            "text/plain": [
              "[0.2697524130344391, 0.8903999924659729]"
            ]
          },
          "metadata": {},
          "execution_count": 67
        }
      ]
    },
    {
      "cell_type": "code",
      "source": [
        "model.predict(X_test)"
      ],
      "metadata": {
        "colab": {
          "base_uri": "https://localhost:8080/"
        },
        "id": "PO4SOoO1wyKt",
        "outputId": "8c1e07dc-e677-4949-c4e7-08fe877daf9b"
      },
      "execution_count": 68,
      "outputs": [
        {
          "output_type": "stream",
          "name": "stdout",
          "text": [
            "157/157 [==============================] - 0s 2ms/step\n"
          ]
        },
        {
          "output_type": "execute_result",
          "data": {
            "text/plain": [
              "array([[0.05255065],\n",
              "       [0.44716254],\n",
              "       [0.9887505 ],\n",
              "       ...,\n",
              "       [0.80898744],\n",
              "       [0.9759519 ],\n",
              "       [0.34136388]], dtype=float32)"
            ]
          },
          "metadata": {},
          "execution_count": 68
        }
      ]
    },
    {
      "cell_type": "markdown",
      "source": [
        "# Graphs"
      ],
      "metadata": {
        "id": "7pkQakonOSS3"
      }
    },
    {
      "cell_type": "code",
      "source": [
        "plt.plot(history.history['loss'])\n",
        "plt.plot(history.history['val_loss'])\n",
        "plt.title('model loss')\n",
        "plt.ylabel('loss')\n",
        "plt.xlabel('epoch')\n",
        "plt.legend(['train', 'val'], loc='upper left')\n",
        "plt.show()\n",
        "\n",
        "plt.plot(history.history['accuracy'])\n",
        "plt.plot(history.history['val_accuracy'])\n",
        "plt.title('model accuracy')\n",
        "plt.ylabel('accuracy')\n",
        "plt.xlabel('epoch')\n",
        "plt.legend(['train', 'val'], loc='upper left')\n",
        "plt.show()"
      ],
      "metadata": {
        "colab": {
          "base_uri": "https://localhost:8080/",
          "height": 927
        },
        "id": "dVoLlOXMOSkm",
        "outputId": "f3b8e319-0654-4ce1-8d18-40f1cbe0ebeb"
      },
      "execution_count": 69,
      "outputs": [
        {
          "output_type": "display_data",
          "data": {
            "text/plain": [
              "<Figure size 640x480 with 1 Axes>"
            ],
            "image/png": "[encoded data removed]"
          },
          "metadata": {}
        },
        {
          "output_type": "display_data",
          "data": {
            "text/plain": [
              "<Figure size 640x480 with 1 Axes>"
            ],
            "image/png": "[encoded data removed]"
          },
          "metadata": {}
        }
      ]
    },
    {
      "cell_type": "markdown",
      "source": [
        "# Good-Bad Testing\n"
      ],
      "metadata": {
        "id": "TzoKgYNPkMPB"
      }
    },
    {
      "cell_type": "code",
      "source": [
        "#Load the data file\n",
        "df_G = pd.read_csv('/content/drive/MyDrive/GoodTest.csv')\n",
        "df_B = pd.read_csv('/content/drive/MyDrive/BadTest.csv')\n",
        "\n",
        "#Turn positive and negative into binary\n",
        "sentiment_map = {'positive': 1, 'negative': 0}\n",
        "df_G['sentiment_binary'] = df['sentiment'].map(sentiment_map)\n",
        "df_B['sentiment_binary'] = df['sentiment'].map(sentiment_map)\n",
        "\n",
        "#Sets the review and sentiment columns\n",
        "reviews_G = df_G.iloc[:, 0].values\n",
        "sentiments_G = df_G.iloc[:, 2].values\n",
        "\n",
        "reviews_B = df_B.iloc[:, 0].values\n",
        "sentiments_B = df_B.iloc[:, 2].values\n",
        "\n",
        "X_train_G, X_t_G, Y_train_G, Y_t_G = train_test_split(reviews_G, sentiments_G, test_size=0.01, random_state=26)\n",
        "X_train_B, X_t_B, Y_train_B, Y_t_B = train_test_split(reviews_B, sentiments_B, test_size=0.01, random_state=26)"
      ],
      "metadata": {
        "id": "iQJW6zHhkMmT"
      },
      "execution_count": 70,
      "outputs": []
    },
    {
      "cell_type": "code",
      "source": [
        "#Turn our train and test data into numerical data and pad all entries to the same length for input consistency\n",
        "#The post modifier makes all cuts or additions at the end. The padding character is, by default, 0\n",
        "X_Good = tokenizer.texts_to_sequences(X_train_G)\n",
        "X_Bad = tokenizer.texts_to_sequences(X_train_B)\n",
        "\n",
        "X_Good = pad_sequences(X_Good, maxlen=500, padding='post', truncating='post')\n",
        "X_Bad = pad_sequences(X_Bad, maxlen=500, padding='post', truncating='post')\n"
      ],
      "metadata": {
        "id": "nvkL0c9RkU6X"
      },
      "execution_count": 71,
      "outputs": []
    },
    {
      "cell_type": "code",
      "source": [
        "model.evaluate(X_Good, Y_train_G)"
      ],
      "metadata": {
        "colab": {
          "base_uri": "https://localhost:8080/"
        },
        "id": "RIjQ_zeUkXnG",
        "outputId": "08a01877-8c97-48ad-b785-e9f55c3ef56b"
      },
      "execution_count": 72,
      "outputs": [
        {
          "output_type": "stream",
          "name": "stdout",
          "text": [
            "2/2 [==============================] - 0s 7ms/step - loss: 0.7110 - accuracy: 0.5417\n"
          ]
        },
        {
          "output_type": "execute_result",
          "data": {
            "text/plain": [
              "[0.7110293507575989, 0.5416666865348816]"
            ]
          },
          "metadata": {},
          "execution_count": 72
        }
      ]
    },
    {
      "cell_type": "code",
      "source": [
        "model.evaluate(X_Bad, Y_train_B)"
      ],
      "metadata": {
        "colab": {
          "base_uri": "https://localhost:8080/"
        },
        "id": "iSrU61NhkfBu",
        "outputId": "7713fd19-5171-462a-d7aa-1c852202a12d"
      },
      "execution_count": 73,
      "outputs": [
        {
          "output_type": "stream",
          "name": "stdout",
          "text": [
            "1/1 [==============================] - 0s 35ms/step - loss: 0.9031 - accuracy: 0.5172\n"
          ]
        },
        {
          "output_type": "execute_result",
          "data": {
            "text/plain": [
              "[0.903145432472229, 0.517241358757019]"
            ]
          },
          "metadata": {},
          "execution_count": 73
        }
      ]
    }
  ]
}